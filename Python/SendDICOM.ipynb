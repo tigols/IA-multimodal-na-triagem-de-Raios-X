{
 "cells": [
  {
   "cell_type": "markdown",
   "metadata": {},
   "source": [
    "# Script em Python para enviar arquivos DICOM para a API Rest do Orthanc\n"
   ]
  },
  {
   "cell_type": "code",
   "execution_count": 6,
   "metadata": {},
   "outputs": [],
   "source": [
    "# importando bibliotecas\n",
    "import requests\n",
    "import os"
   ]
  },
  {
   "cell_type": "code",
   "execution_count": 7,
   "metadata": {},
   "outputs": [],
   "source": [
    "# configurações\n",
    "orthanc_url = 'http://localhost:80'\n",
    "dicom_file_path = 'C:/Users/tiago/OneDrive/UNICAMP/IC Inteligência Artificial'\n",
    "username = 'demo'\n",
    "password = 'demo'\n"
   ]
  },
  {
   "cell_type": "code",
   "execution_count": 30,
   "metadata": {},
   "outputs": [
    {
     "name": "stdout",
     "output_type": "stream",
     "text": [
      "Arquivo DICOM enviado com sucesso.\n",
      "Arquivo DICOM enviado com sucesso.\n",
      "Arquivo DICOM enviado com sucesso.\n",
      "Arquivo DICOM enviado com sucesso.\n",
      "Arquivo DICOM enviado com sucesso.\n",
      "Arquivo DICOM enviado com sucesso.\n",
      "Arquivo DICOM enviado com sucesso.\n",
      "Arquivo DICOM enviado com sucesso.\n",
      "Arquivo DICOM enviado com sucesso.\n"
     ]
    }
   ],
   "source": [
    "# função para enviar um arquivo DICOM para o OrthanC\n",
    "def enviar_arquivo(file_path):\n",
    "    with open(file_path, 'rb') as file: #abrimos os arquivos \n",
    "        envio = requests.post( # usado para fazer solicitacao HTTP POST usado para enviar arquivos ao servidor\n",
    "            f'{orthanc_url}/instances', # URL para onde ira os arquivos, nesse caso seria o link do site /imagens\n",
    "            files={'file': file},\n",
    "            auth=(username, password) # autenticar usuario\n",
    "        )\n",
    "    if envio.status_code == 200: # checagem de envio do arquivo\n",
    "        print('Arquivo DICOM enviado com sucesso.')\n",
    "    else:\n",
    "        print(f'Falha ao enviar o arquivo. Status code: {envio.status_code}')\n",
    "        print(envio.text)\n",
    "\n",
    "# função para andar pelos diretorios e achar as imagens\n",
    "def caminho(diretorio):\n",
    "    for root, dirs, files in os.walk(diretorio): #aqui estou pegando os caminhos do meu diretorio para enviar as imagens\n",
    "        for file in files:\n",
    "            if file.endswith('.dcm') and not file.endswith('_SR.dcm'):\n",
    "                file_path = os.path.join(root, file) #junta o caminho do arquivo\n",
    "                enviar_arquivo(file_path) #envia o arquivo para a API\n",
    "\n",
    "# Enviar o arquivo DICOM\n",
    "caminho(dicom_file_path)\n"
   ]
  }
 ],
 "metadata": {
  "kernelspec": {
   "display_name": "Python 3",
   "language": "python",
   "name": "python3"
  },
  "language_info": {
   "codemirror_mode": {
    "name": "ipython",
    "version": 3
   },
   "file_extension": ".py",
   "mimetype": "text/x-python",
   "name": "python",
   "nbconvert_exporter": "python",
   "pygments_lexer": "ipython3",
   "version": "3.11.9"
  }
 },
 "nbformat": 4,
 "nbformat_minor": 2
}
